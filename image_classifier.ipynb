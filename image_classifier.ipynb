{
 "cells": [
  {
   "cell_type": "markdown",
   "metadata": {},
   "source": [
    "# Building an Image Classifier using the Sequential API"
   ]
  },
  {
   "cell_type": "code",
   "execution_count": 1,
   "metadata": {},
   "outputs": [],
   "source": [
    "import tensorflow as tf"
   ]
  },
  {
   "cell_type": "code",
   "execution_count": 2,
   "metadata": {},
   "outputs": [],
   "source": [
    "fashion_mnist = tf.keras.datasets.fashion_mnist.load_data()"
   ]
  },
  {
   "cell_type": "code",
   "execution_count": 3,
   "metadata": {},
   "outputs": [],
   "source": [
    "import tensorflow as tf\n",
    "\n",
    "fashion_mnist = tf.keras.datasets.fashion_mnist.load_data()\n",
    "(X_train_full, y_train_full), (X_test, y_test) = fashion_mnist\n",
    "X_train, y_train = X_train_full[:5000], y_train_full[:5000]\n",
    "X_valid, y_valid = X_train_full[5000:], y_train_full[5000:]"
   ]
  },
  {
   "cell_type": "code",
   "execution_count": 4,
   "metadata": {},
   "outputs": [
    {
     "data": {
      "text/plain": [
       "(5000, 28, 28)"
      ]
     },
     "execution_count": 4,
     "metadata": {},
     "output_type": "execute_result"
    }
   ],
   "source": [
    "X_train.shape"
   ]
  },
  {
   "cell_type": "code",
   "execution_count": 5,
   "metadata": {},
   "outputs": [
    {
     "data": {
      "text/plain": [
       "dtype('uint8')"
      ]
     },
     "execution_count": 5,
     "metadata": {},
     "output_type": "execute_result"
    }
   ],
   "source": [
    "X_train.dtype"
   ]
  },
  {
   "cell_type": "code",
   "execution_count": 6,
   "metadata": {},
   "outputs": [],
   "source": [
    "X_train, X_valid, X_test = X_train/255., X_valid/255., X_test/255."
   ]
  },
  {
   "cell_type": "code",
   "execution_count": 7,
   "metadata": {},
   "outputs": [],
   "source": [
    "tf.random.set_seed(42)\n",
    "model = tf.keras.Sequential()\n",
    "model.add(tf.keras.layers.Input(shape=[28,28]))\n",
    "model.add(tf.keras.layers.Flatten())\n",
    "model.add(tf.keras.layers.Dense(300, activation=\"relu\"))\n",
    "model.add(tf.keras.layers.Dense(100, activation=\"relu\"))\n",
    "model.add(tf.keras.layers.Dense(10, activation=\"softmax\"))"
   ]
  },
  {
   "cell_type": "code",
   "execution_count": 8,
   "metadata": {},
   "outputs": [
    {
     "name": "stdout",
     "output_type": "stream",
     "text": [
      "Model: \"sequential\"\n",
      "_________________________________________________________________\n",
      " Layer (type)                Output Shape              Param #   \n",
      "=================================================================\n",
      " flatten (Flatten)           (None, 784)               0         \n",
      "                                                                 \n",
      " dense (Dense)               (None, 300)               235500    \n",
      "                                                                 \n",
      " dense_1 (Dense)             (None, 100)               30100     \n",
      "                                                                 \n",
      " dense_2 (Dense)             (None, 10)                1010      \n",
      "                                                                 \n",
      "=================================================================\n",
      "Total params: 266610 (1.02 MB)\n",
      "Trainable params: 266610 (1.02 MB)\n",
      "Non-trainable params: 0 (0.00 Byte)\n",
      "_________________________________________________________________\n"
     ]
    }
   ],
   "source": [
    "model.summary()"
   ]
  },
  {
   "cell_type": "code",
   "execution_count": 14,
   "metadata": {},
   "outputs": [],
   "source": [
    "model.compile(loss=\"sparse_categorical_crossentropy\",\n",
    "              optimizer=\"adam\",\n",
    "             metrics=['accuracy'])"
   ]
  },
  {
   "cell_type": "code",
   "execution_count": 16,
   "metadata": {},
   "outputs": [
    {
     "name": "stdout",
     "output_type": "stream",
     "text": [
      "Epoch 1/30\n",
      "157/157 [==============================] - 7s 36ms/step - loss: 0.7694 - accuracy: 0.7330 - val_loss: 0.6227 - val_accuracy: 0.7735\n",
      "Epoch 2/30\n",
      "157/157 [==============================] - 5s 32ms/step - loss: 0.5168 - accuracy: 0.8192 - val_loss: 0.5552 - val_accuracy: 0.8050\n",
      "Epoch 3/30\n",
      "157/157 [==============================] - 5s 31ms/step - loss: 0.4361 - accuracy: 0.8412 - val_loss: 0.4809 - val_accuracy: 0.8315\n",
      "Epoch 4/30\n",
      "157/157 [==============================] - 5s 33ms/step - loss: 0.3964 - accuracy: 0.8580 - val_loss: 0.5615 - val_accuracy: 0.8063\n",
      "Epoch 5/30\n",
      "157/157 [==============================] - 5s 31ms/step - loss: 0.3531 - accuracy: 0.8754 - val_loss: 0.4773 - val_accuracy: 0.8352\n",
      "Epoch 6/30\n",
      "157/157 [==============================] - 5s 32ms/step - loss: 0.3256 - accuracy: 0.8826 - val_loss: 0.5093 - val_accuracy: 0.8224\n",
      "Epoch 7/30\n",
      "157/157 [==============================] - 5s 32ms/step - loss: 0.3107 - accuracy: 0.8884 - val_loss: 0.4469 - val_accuracy: 0.8477\n",
      "Epoch 8/30\n",
      "157/157 [==============================] - 5s 33ms/step - loss: 0.2863 - accuracy: 0.8998 - val_loss: 0.4397 - val_accuracy: 0.8515\n",
      "Epoch 9/30\n",
      "157/157 [==============================] - 5s 34ms/step - loss: 0.2616 - accuracy: 0.9058 - val_loss: 0.4625 - val_accuracy: 0.8432\n",
      "Epoch 10/30\n",
      "157/157 [==============================] - 5s 31ms/step - loss: 0.2651 - accuracy: 0.9032 - val_loss: 0.4468 - val_accuracy: 0.8517\n",
      "Epoch 11/30\n",
      "157/157 [==============================] - 5s 31ms/step - loss: 0.2376 - accuracy: 0.9076 - val_loss: 0.4664 - val_accuracy: 0.8501\n",
      "Epoch 12/30\n",
      "157/157 [==============================] - 5s 31ms/step - loss: 0.2467 - accuracy: 0.9076 - val_loss: 0.4775 - val_accuracy: 0.8447\n",
      "Epoch 13/30\n",
      "157/157 [==============================] - 5s 33ms/step - loss: 0.2198 - accuracy: 0.9210 - val_loss: 0.4942 - val_accuracy: 0.8440\n",
      "Epoch 14/30\n",
      "157/157 [==============================] - 5s 35ms/step - loss: 0.2275 - accuracy: 0.9116 - val_loss: 0.5586 - val_accuracy: 0.8282\n",
      "Epoch 15/30\n",
      "157/157 [==============================] - 5s 34ms/step - loss: 0.2125 - accuracy: 0.9204 - val_loss: 0.4701 - val_accuracy: 0.8515\n",
      "Epoch 16/30\n",
      "157/157 [==============================] - 5s 32ms/step - loss: 0.1880 - accuracy: 0.9354 - val_loss: 0.4898 - val_accuracy: 0.8525\n",
      "Epoch 17/30\n",
      "157/157 [==============================] - 5s 30ms/step - loss: 0.1797 - accuracy: 0.9356 - val_loss: 0.5100 - val_accuracy: 0.8395\n",
      "Epoch 18/30\n",
      "157/157 [==============================] - 5s 30ms/step - loss: 0.1653 - accuracy: 0.9392 - val_loss: 0.6417 - val_accuracy: 0.8148\n",
      "Epoch 19/30\n",
      "157/157 [==============================] - 4s 29ms/step - loss: 0.1619 - accuracy: 0.9400 - val_loss: 0.5372 - val_accuracy: 0.8420\n",
      "Epoch 20/30\n",
      "157/157 [==============================] - 5s 29ms/step - loss: 0.1532 - accuracy: 0.9442 - val_loss: 0.5496 - val_accuracy: 0.8508\n",
      "Epoch 21/30\n",
      "157/157 [==============================] - 5s 29ms/step - loss: 0.1579 - accuracy: 0.9426 - val_loss: 0.5575 - val_accuracy: 0.8475\n",
      "Epoch 22/30\n",
      "157/157 [==============================] - 5s 29ms/step - loss: 0.1834 - accuracy: 0.9368 - val_loss: 0.5131 - val_accuracy: 0.8495\n",
      "Epoch 23/30\n",
      "157/157 [==============================] - 5s 30ms/step - loss: 0.1418 - accuracy: 0.9450 - val_loss: 0.6094 - val_accuracy: 0.8276\n",
      "Epoch 24/30\n",
      "157/157 [==============================] - 4s 29ms/step - loss: 0.1283 - accuracy: 0.9530 - val_loss: 0.5196 - val_accuracy: 0.8570\n",
      "Epoch 25/30\n",
      "157/157 [==============================] - 5s 29ms/step - loss: 0.1090 - accuracy: 0.9582 - val_loss: 0.5883 - val_accuracy: 0.8448\n",
      "Epoch 26/30\n",
      "157/157 [==============================] - 5s 31ms/step - loss: 0.1056 - accuracy: 0.9638 - val_loss: 0.6223 - val_accuracy: 0.8423\n",
      "Epoch 27/30\n",
      "157/157 [==============================] - 5s 33ms/step - loss: 0.1112 - accuracy: 0.9574 - val_loss: 0.5864 - val_accuracy: 0.8528\n",
      "Epoch 28/30\n",
      "157/157 [==============================] - 5s 30ms/step - loss: 0.0861 - accuracy: 0.9690 - val_loss: 0.5920 - val_accuracy: 0.8519\n",
      "Epoch 29/30\n",
      "157/157 [==============================] - 5s 29ms/step - loss: 0.0882 - accuracy: 0.9676 - val_loss: 0.6292 - val_accuracy: 0.8485\n",
      "Epoch 30/30\n",
      "157/157 [==============================] - 4s 29ms/step - loss: 0.0953 - accuracy: 0.9682 - val_loss: 0.7062 - val_accuracy: 0.8319\n"
     ]
    }
   ],
   "source": [
    "history=model.fit(X_train,y_train, epochs=30, validation_data=(X_valid,y_valid))"
   ]
  },
  {
   "cell_type": "code",
   "execution_count": 18,
   "metadata": {},
   "outputs": [
    {
     "data": {
      "image/png": "[encoded data removed]",
      "text/plain": [
       "<Figure size 800x500 with 1 Axes>"
      ]
     },
     "metadata": {},
     "output_type": "display_data"
    }
   ],
   "source": [
    "import matplotlib.pyplot as plt\n",
    "import pandas as pd\n",
    "\n",
    "pd.DataFrame(history.history).plot(\n",
    "    figsize=(8,5), xlim=[0,29], ylim=[0,1], grid=True, xlabel='Epoch', style=[\"r--\",\"r--.\",\"b-\",\"b-*\"]\n",
    ")\n",
    "plt.show()"
   ]
  },
  {
   "cell_type": "code",
   "execution_count": 23,
   "metadata": {},
   "outputs": [
    {
     "name": "stdout",
     "output_type": "stream",
     "text": [
      "1/1 [==============================] - 0s 71ms/step\n"
     ]
    },
    {
     "data": {
      "text/plain": [
       "array([[0.  , 0.  , 0.  , 0.  , 0.  , 0.  , 0.  , 0.  , 0.  , 1.  ],\n",
       "       [0.  , 0.  , 0.98, 0.  , 0.  , 0.  , 0.01, 0.  , 0.  , 0.  ],\n",
       "       [0.  , 1.  , 0.  , 0.  , 0.  , 0.  , 0.  , 0.  , 0.  , 0.  ]],\n",
       "      dtype=float32)"
      ]
     },
     "execution_count": 23,
     "metadata": {},
     "output_type": "execute_result"
    }
   ],
   "source": [
    "model.predict(X_test[:3]).round(2)"
   ]
  },
  {
   "cell_type": "markdown",
   "metadata": {},
   "source": [
    "## Build wide and deep network"
   ]
  },
  {
   "cell_type": "code",
   "execution_count": 33,
   "metadata": {},
   "outputs": [],
   "source": [
    "from sklearn.datasets import fetch_california_housing\n",
    "from sklearn.model_selection import train_test_split\n",
    "\n",
    "california_housing = fetch_california_housing(as_frame=True)\n",
    "\n",
    "california_df = california_housing.frame"
   ]
  },
  {
   "cell_type": "code",
   "execution_count": 40,
   "metadata": {},
   "outputs": [],
   "source": [
    "normalization_layer = tf.keras.layers.Normalization()\n",
    "hidden_layer_1 = tf.keras.layers.Dense(30, activation=\"relu\")\n",
    "hidden_layer_2 = tf.keras.layers.Dense(30, activation=\"relu\")\n",
    "concat_layer = tf.keras.layers.Concatenate()\n",
    "output_layer = tf.keras.layers.Dense(1)\n",
    "\n",
    "input_ = tf.keras.layers.Input(X_train.shape[1:])\n",
    "normalized = normalization_layer(input_)\n",
    "hidden1 = hidden_layer_1(normalized)\n",
    "hidden2 = hidden_layer_2(hidden1)\n",
    "concat = concat_layer([normalized, hidden2])\n",
    "output = output_layer(concat)\n",
    "\n",
    "model = tf.keras.Model(inputs=[input_], outputs=[output])\n"
   ]
  },
  {
   "cell_type": "code",
   "execution_count": 28,
   "metadata": {},
   "outputs": [],
   "source": []
  },
  {
   "cell_type": "code",
   "execution_count": null,
   "metadata": {},
   "outputs": [],
   "source": []
  }
 ],
 "metadata": {
  "kernelspec": {
   "display_name": "machine_learning_practice",
   "language": "python",
   "name": "python3"
  },
  "language_info": {
   "codemirror_mode": {
    "name": "ipython",
    "version": 3
   },
   "file_extension": ".py",
   "mimetype": "text/x-python",
   "name": "python",
   "nbconvert_exporter": "python",
   "pygments_lexer": "ipython3",
   "version": "3.9.13"
  }
 },
 "nbformat": 4,
 "nbformat_minor": 2
}
